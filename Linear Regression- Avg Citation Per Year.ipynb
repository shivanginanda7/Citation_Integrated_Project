{
 "cells": [
  {
   "cell_type": "code",
   "execution_count": 1,
   "id": "55d8f2f6",
   "metadata": {},
   "outputs": [],
   "source": [
    "import numpy as np\n",
    "import pandas as pd\n",
    "import matplotlib.pyplot as plt"
   ]
  },
  {
   "cell_type": "code",
   "execution_count": 3,
   "id": "3421a33e",
   "metadata": {},
   "outputs": [],
   "source": [
    "# loading the dataset to pandas DataFrame\n",
    "df = pd.read_csv(\"ip project.csv\")"
   ]
  },
  {
   "cell_type": "code",
   "execution_count": 4,
   "id": "ccb5e7e1",
   "metadata": {},
   "outputs": [
    {
     "data": {
      "text/plain": [
       "pandas.core.frame.DataFrame"
      ]
     },
     "execution_count": 4,
     "metadata": {},
     "output_type": "execute_result"
    }
   ],
   "source": [
    "type(df)"
   ]
  },
  {
   "cell_type": "code",
   "execution_count": 9,
   "id": "159695dc",
   "metadata": {},
   "outputs": [
    {
     "data": {
      "text/html": [
       "<div>\n",
       "<style scoped>\n",
       "    .dataframe tbody tr th:only-of-type {\n",
       "        vertical-align: middle;\n",
       "    }\n",
       "\n",
       "    .dataframe tbody tr th {\n",
       "        vertical-align: top;\n",
       "    }\n",
       "\n",
       "    .dataframe thead th {\n",
       "        text-align: right;\n",
       "    }\n",
       "</style>\n",
       "<table border=\"1\" class=\"dataframe\">\n",
       "  <thead>\n",
       "    <tr style=\"text-align: right;\">\n",
       "      <th></th>\n",
       "      <th>Title</th>\n",
       "      <th>Authors</th>\n",
       "      <th>Publication Year</th>\n",
       "      <th>Total Citations</th>\n",
       "      <th>Average per Year</th>\n",
       "      <th>2000</th>\n",
       "      <th>2001</th>\n",
       "      <th>2002</th>\n",
       "      <th>2003</th>\n",
       "      <th>2004</th>\n",
       "      <th>...</th>\n",
       "      <th>2008</th>\n",
       "      <th>2009</th>\n",
       "      <th>2010</th>\n",
       "      <th>2011</th>\n",
       "      <th>2012</th>\n",
       "      <th>2013</th>\n",
       "      <th>2014</th>\n",
       "      <th>2015</th>\n",
       "      <th>2016</th>\n",
       "      <th>2017</th>\n",
       "    </tr>\n",
       "  </thead>\n",
       "  <tbody>\n",
       "    <tr>\n",
       "      <th>0</th>\n",
       "      <td>RNA-Seq: a revolutionary tool for transcriptomics</td>\n",
       "      <td>Wang, Zhong; Gerstein, Mark; Snyder, Michael</td>\n",
       "      <td>2009</td>\n",
       "      <td>5424</td>\n",
       "      <td>493.09</td>\n",
       "      <td>0</td>\n",
       "      <td>0</td>\n",
       "      <td>0</td>\n",
       "      <td>0</td>\n",
       "      <td>0</td>\n",
       "      <td>...</td>\n",
       "      <td>0</td>\n",
       "      <td>69</td>\n",
       "      <td>223</td>\n",
       "      <td>341</td>\n",
       "      <td>469</td>\n",
       "      <td>579</td>\n",
       "      <td>699</td>\n",
       "      <td>702</td>\n",
       "      <td>717</td>\n",
       "      <td>685</td>\n",
       "    </tr>\n",
       "    <tr>\n",
       "      <th>1</th>\n",
       "      <td>Network biology: Understanding the cell's func...</td>\n",
       "      <td>Barabasi, AL; Oltvai, ZN</td>\n",
       "      <td>2004</td>\n",
       "      <td>4202</td>\n",
       "      <td>262.63</td>\n",
       "      <td>0</td>\n",
       "      <td>0</td>\n",
       "      <td>0</td>\n",
       "      <td>0</td>\n",
       "      <td>43</td>\n",
       "      <td>...</td>\n",
       "      <td>248</td>\n",
       "      <td>326</td>\n",
       "      <td>285</td>\n",
       "      <td>316</td>\n",
       "      <td>359</td>\n",
       "      <td>313</td>\n",
       "      <td>335</td>\n",
       "      <td>317</td>\n",
       "      <td>329</td>\n",
       "      <td>319</td>\n",
       "    </tr>\n",
       "    <tr>\n",
       "      <th>2</th>\n",
       "      <td>The fundamental role of epigenetic events in c...</td>\n",
       "      <td>Jones, PA; Baylin, SB</td>\n",
       "      <td>2002</td>\n",
       "      <td>3855</td>\n",
       "      <td>214.17</td>\n",
       "      <td>0</td>\n",
       "      <td>0</td>\n",
       "      <td>22</td>\n",
       "      <td>158</td>\n",
       "      <td>190</td>\n",
       "      <td>...</td>\n",
       "      <td>262</td>\n",
       "      <td>263</td>\n",
       "      <td>284</td>\n",
       "      <td>292</td>\n",
       "      <td>270</td>\n",
       "      <td>237</td>\n",
       "      <td>245</td>\n",
       "      <td>205</td>\n",
       "      <td>184</td>\n",
       "      <td>195</td>\n",
       "    </tr>\n",
       "    <tr>\n",
       "      <th>3</th>\n",
       "      <td>APPLICATIONS OF NEXT-GENERATION SEQUENCING Seq...</td>\n",
       "      <td>Metzker, Michael L.</td>\n",
       "      <td>2010</td>\n",
       "      <td>3395</td>\n",
       "      <td>339.50</td>\n",
       "      <td>0</td>\n",
       "      <td>0</td>\n",
       "      <td>0</td>\n",
       "      <td>0</td>\n",
       "      <td>0</td>\n",
       "      <td>...</td>\n",
       "      <td>0</td>\n",
       "      <td>0</td>\n",
       "      <td>148</td>\n",
       "      <td>343</td>\n",
       "      <td>444</td>\n",
       "      <td>408</td>\n",
       "      <td>438</td>\n",
       "      <td>448</td>\n",
       "      <td>433</td>\n",
       "      <td>346</td>\n",
       "    </tr>\n",
       "    <tr>\n",
       "      <th>4</th>\n",
       "      <td>Micrornas: Small RNAs with a big role in gene ...</td>\n",
       "      <td>He, L; Hannon, GJ</td>\n",
       "      <td>2004</td>\n",
       "      <td>3343</td>\n",
       "      <td>208.94</td>\n",
       "      <td>0</td>\n",
       "      <td>0</td>\n",
       "      <td>0</td>\n",
       "      <td>0</td>\n",
       "      <td>10</td>\n",
       "      <td>...</td>\n",
       "      <td>119</td>\n",
       "      <td>144</td>\n",
       "      <td>177</td>\n",
       "      <td>206</td>\n",
       "      <td>265</td>\n",
       "      <td>285</td>\n",
       "      <td>80</td>\n",
       "      <td>280</td>\n",
       "      <td>390</td>\n",
       "      <td>470</td>\n",
       "    </tr>\n",
       "  </tbody>\n",
       "</table>\n",
       "<p>5 rows × 23 columns</p>\n",
       "</div>"
      ],
      "text/plain": [
       "                                               Title  \\\n",
       "0  RNA-Seq: a revolutionary tool for transcriptomics   \n",
       "1  Network biology: Understanding the cell's func...   \n",
       "2  The fundamental role of epigenetic events in c...   \n",
       "3  APPLICATIONS OF NEXT-GENERATION SEQUENCING Seq...   \n",
       "4  Micrornas: Small RNAs with a big role in gene ...   \n",
       "\n",
       "                                        Authors  Publication Year  \\\n",
       "0  Wang, Zhong; Gerstein, Mark; Snyder, Michael              2009   \n",
       "1                      Barabasi, AL; Oltvai, ZN              2004   \n",
       "2                         Jones, PA; Baylin, SB              2002   \n",
       "3                           Metzker, Michael L.              2010   \n",
       "4                             He, L; Hannon, GJ              2004   \n",
       "\n",
       "   Total Citations  Average per Year  2000  2001  2002  2003  2004  ...  2008  \\\n",
       "0             5424            493.09     0     0     0     0     0  ...     0   \n",
       "1             4202            262.63     0     0     0     0    43  ...   248   \n",
       "2             3855            214.17     0     0    22   158   190  ...   262   \n",
       "3             3395            339.50     0     0     0     0     0  ...     0   \n",
       "4             3343            208.94     0     0     0     0    10  ...   119   \n",
       "\n",
       "   2009  2010  2011  2012  2013  2014  2015  2016  2017  \n",
       "0    69   223   341   469   579   699   702   717   685  \n",
       "1   326   285   316   359   313   335   317   329   319  \n",
       "2   263   284   292   270   237   245   205   184   195  \n",
       "3     0   148   343   444   408   438   448   433   346  \n",
       "4   144   177   206   265   285    80   280   390   470  \n",
       "\n",
       "[5 rows x 23 columns]"
      ]
     },
     "execution_count": 9,
     "metadata": {},
     "output_type": "execute_result"
    }
   ],
   "source": [
    "# printing the first 5 rows of the dataframe\n",
    "df.head()"
   ]
  },
  {
   "cell_type": "markdown",
   "id": "cc3f4528",
   "metadata": {},
   "source": [
    "## Average citation per year and last year's citations"
   ]
  },
  {
   "cell_type": "code",
   "execution_count": 11,
   "id": "a6910773",
   "metadata": {},
   "outputs": [
    {
     "data": {
      "text/plain": [
       "<matplotlib.collections.PathCollection at 0x23d83b130d0>"
      ]
     },
     "execution_count": 11,
     "metadata": {},
     "output_type": "execute_result"
    },
    {
     "data": {
      "image/png": "[encoded data removed]",
      "text/plain": [
       "<Figure size 432x288 with 1 Axes>"
      ]
     },
     "metadata": {
      "needs_background": "light"
     },
     "output_type": "display_data"
    }
   ],
   "source": [
    "peryear = df[\"Average per Year\"]\n",
    "lastyear = df[\"2017\"]\n",
    "plt.scatter(peryear, lastyear)"
   ]
  },
  {
   "cell_type": "code",
   "execution_count": 12,
   "id": "c007f892",
   "metadata": {},
   "outputs": [
    {
     "name": "stdout",
     "output_type": "stream",
     "text": [
      "Shape:  (3121, 1) (3121, 1)\n"
     ]
    }
   ],
   "source": [
    "# Assign the data to X and y\n",
    "# Note: Sklearn requires a two-dimensional array of values\n",
    "# so we use reshape to create this\n",
    "\n",
    "X = peryear.values.reshape(-1, 1)\n",
    "y = lastyear.values.reshape(-1, 1)\n",
    "\n",
    "print(\"Shape: \", X.shape, y.shape)"
   ]
  },
  {
   "cell_type": "code",
   "execution_count": 13,
   "id": "ca0ac70b",
   "metadata": {},
   "outputs": [
    {
     "data": {
      "text/plain": [
       "<matplotlib.collections.PathCollection at 0x23d842b4fa0>"
      ]
     },
     "execution_count": 13,
     "metadata": {},
     "output_type": "execute_result"
    },
    {
     "data": {
      "image/png": "[encoded data removed]",
      "text/plain": [
       "<Figure size 432x288 with 1 Axes>"
      ]
     },
     "metadata": {
      "needs_background": "light"
     },
     "output_type": "display_data"
    }
   ],
   "source": [
    "plt.scatter(X,y)"
   ]
  },
  {
   "cell_type": "code",
   "execution_count": 14,
   "id": "27e01fc8",
   "metadata": {},
   "outputs": [],
   "source": [
    "# Use sklearn's `train_test_split` to split the data into training and testing\n",
    "\n",
    "from sklearn.model_selection import train_test_split\n",
    "\n",
    "# YOUR CODE HERE\n",
    "X_train, X_test, y_train, y_test = train_test_split(X, y, random_state=42)"
   ]
  },
  {
   "cell_type": "code",
   "execution_count": 15,
   "id": "53e8b9ff",
   "metadata": {},
   "outputs": [],
   "source": [
    "# Create the model\n",
    "\n",
    "# YOUR CODE HERE\n",
    "from sklearn.datasets import make_regression\n",
    "from sklearn.linear_model import LinearRegression\n",
    "model = LinearRegression()"
   ]
  },
  {
   "cell_type": "code",
   "execution_count": 16,
   "id": "ad636d8a",
   "metadata": {},
   "outputs": [
    {
     "data": {
      "text/plain": [
       "LinearRegression()"
      ]
     },
     "execution_count": 16,
     "metadata": {},
     "output_type": "execute_result"
    }
   ],
   "source": [
    "# Fit the model to the training data. \n",
    "\n",
    "# YOUR CODE HERE\n",
    "model.fit(X_train, y_train)"
   ]
  },
  {
   "cell_type": "code",
   "execution_count": 17,
   "id": "1b52172a",
   "metadata": {},
   "outputs": [
    {
     "name": "stdout",
     "output_type": "stream",
     "text": [
      "Mean Squared Error (MSE): 66.30330643429058\n",
      "R-squared (R2 ): 0.9544251088797849\n"
     ]
    }
   ],
   "source": [
    "# Calculate the mean_squared_error and the r-squared value\n",
    "# for the testing data\n",
    "\n",
    "from sklearn.metrics import mean_squared_error, r2_score\n",
    "\n",
    "# YOUR CODE HERE\n",
    "# Use our model to predict a value\n",
    "predicted = model.predict(X_test)\n",
    "\n",
    "# Score the prediction with mse and r2\n",
    "mse = mean_squared_error(y_test, predicted)\n",
    "r2 = r2_score(y_test, predicted)\n",
    "\n",
    "print(f\"Mean Squared Error (MSE): {mse}\")\n",
    "print(f\"R-squared (R2 ): {r2}\")"
   ]
  },
  {
   "cell_type": "code",
   "execution_count": 18,
   "id": "0adc7ff5",
   "metadata": {},
   "outputs": [
    {
     "data": {
      "text/plain": [
       "0.9544251088797849"
      ]
     },
     "execution_count": 18,
     "metadata": {},
     "output_type": "execute_result"
    }
   ],
   "source": [
    "# Call the `score` method on the model to show the r2 score\n",
    "\n",
    "# YOUR CODE HERE\n",
    "model.score(X_test, y_test)"
   ]
  },
  {
   "cell_type": "code",
   "execution_count": 20,
   "id": "3e5eefe4",
   "metadata": {},
   "outputs": [
    {
     "data": {
      "text/plain": [
       "<matplotlib.collections.PathCollection at 0x23d869ac520>"
      ]
     },
     "execution_count": 20,
     "metadata": {},
     "output_type": "execute_result"
    },
    {
     "data": {
      "image/png": "[encoded data removed]",
      "text/plain": [
       "<Figure size 432x288 with 1 Axes>"
      ]
     },
     "metadata": {
      "needs_background": "light"
     },
     "output_type": "display_data"
    }
   ],
   "source": [
    "totalyear = df[\"Average per Year\"]\n",
    "lastyear2 = df[\"2017\"]\n",
    "plt.scatter(totalyear, lastyear2)"
   ]
  },
  {
   "cell_type": "code",
   "execution_count": null,
   "id": "0ec8e0af",
   "metadata": {},
   "outputs": [],
   "source": []
  }
 ],
 "metadata": {
  "kernelspec": {
   "display_name": "Python 3",
   "language": "python",
   "name": "python3"
  },
  "language_info": {
   "codemirror_mode": {
    "name": "ipython",
    "version": 3
   },
   "file_extension": ".py",
   "mimetype": "text/x-python",
   "name": "python",
   "nbconvert_exporter": "python",
   "pygments_lexer": "ipython3",
   "version": "3.8.8"
  }
 },
 "nbformat": 4,
 "nbformat_minor": 5
}
